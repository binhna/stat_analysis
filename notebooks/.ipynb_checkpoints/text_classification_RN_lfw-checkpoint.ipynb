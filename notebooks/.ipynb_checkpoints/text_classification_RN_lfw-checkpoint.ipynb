{
 "cells": [
  {
   "cell_type": "markdown",
   "metadata": {},
   "source": [
    "#### REF\n",
    "* https://github.com/dmlc/gluon-nlp/blob/master/docs/api/notes/data_api.rst"
   ]
  },
  {
   "cell_type": "markdown",
   "metadata": {},
   "source": [
    "## Data Loading"
   ]
  },
  {
   "cell_type": "code",
   "execution_count": 1,
   "metadata": {
    "ExecuteTime": {
     "end_time": "2018-07-10T05:59:21.660341Z",
     "start_time": "2018-07-10T05:59:20.601923Z"
    }
   },
   "outputs": [],
   "source": [
    "import os\n",
    "import pandas as pd\n",
    "import numpy as np\n",
    "import nltk\n",
    "import collections\n",
    "from sklearn.preprocessing import normalize\n",
    "from sklearn.metrics import accuracy_score, auc\n",
    "from mxnet import gluon\n",
    "\n",
    "\n",
    "import time, re\n",
    "import multiprocessing as mp\n",
    "import itertools\n",
    "from tqdm import tqdm, tqdm_notebook\n",
    "import mxnet as mx\n"
   ]
  },
  {
   "cell_type": "markdown",
   "metadata": {},
   "source": [
    "### Another Data preparation\n",
    "* Input data shape::$ (batch \\times word \\times vocab )$ \n",
    "* Split data: training & validation\n",
    "* Create data iterator for training"
   ]
  },
  {
   "cell_type": "code",
   "execution_count": 2,
   "metadata": {
    "ExecuteTime": {
     "end_time": "2018-07-10T05:59:23.405223Z",
     "start_time": "2018-07-10T05:59:23.401427Z"
    }
   },
   "outputs": [],
   "source": [
    "MAX_SENTENCE_LENGTH = 50\n",
    "MAX_VOCAB = 10000"
   ]
  },
  {
   "cell_type": "code",
   "execution_count": 3,
   "metadata": {
    "ExecuteTime": {
     "end_time": "2018-07-10T05:59:28.299265Z",
     "start_time": "2018-07-10T05:59:25.732657Z"
    }
   },
   "outputs": [
    {
     "data": {
      "text/html": [
       "<div>\n",
       "<style scoped>\n",
       "    .dataframe tbody tr th:only-of-type {\n",
       "        vertical-align: middle;\n",
       "    }\n",
       "\n",
       "    .dataframe tbody tr th {\n",
       "        vertical-align: top;\n",
       "    }\n",
       "\n",
       "    .dataframe thead th {\n",
       "        text-align: right;\n",
       "    }\n",
       "</style>\n",
       "<table border=\"1\" class=\"dataframe\">\n",
       "  <thead>\n",
       "    <tr style=\"text-align: right;\">\n",
       "      <th></th>\n",
       "      <th>yn</th>\n",
       "      <th>index</th>\n",
       "    </tr>\n",
       "  </thead>\n",
       "  <tbody>\n",
       "    <tr>\n",
       "      <th>0</th>\n",
       "      <td>0</td>\n",
       "      <td>3091</td>\n",
       "    </tr>\n",
       "    <tr>\n",
       "      <th>1</th>\n",
       "      <td>1</td>\n",
       "      <td>3995</td>\n",
       "    </tr>\n",
       "  </tbody>\n",
       "</table>\n",
       "</div>"
      ],
      "text/plain": [
       "   yn  index\n",
       "0   0   3091\n",
       "1   1   3995"
      ]
     },
     "execution_count": 3,
     "metadata": {},
     "output_type": "execute_result"
    }
   ],
   "source": [
    "word_freq = collections.Counter()\n",
    "max_len = 0\n",
    "num_rec = 0\n",
    "\n",
    "with open('../data/umich-sentiment-train.txt', 'rb') as f:\n",
    "    for line in f:\n",
    "        label, sentence = line.decode('utf8').strip().split('\\t')\n",
    "        words = nltk.word_tokenize(sentence.lower())\n",
    "        if len(words) > max_len:\n",
    "            max_len = len(words)\n",
    "        for word in words:\n",
    "            word_freq[word] += 1\n",
    "        num_rec += 1\n",
    "\n",
    "# most_common output -> list\n",
    "word2idx = {x[0]: i+2 for i, x in enumerate(word_freq.most_common(MAX_VOCAB - 2))}\n",
    "word2idx ['PAD'] = 0\n",
    "word2idx['UNK'] = 1\n",
    "\n",
    "idx2word= {i:v for v, i in word2idx.items()}\n",
    "vocab_size = len(word2idx)\n",
    "\n",
    "y = []\n",
    "x = []\n",
    "origin_txt = []\n",
    "with open('../data/umich-sentiment-train.txt', 'rb') as f:\n",
    "    for line in f:\n",
    "        _label, _sentence = line.decode('utf8').strip().split('\\t')\n",
    "        origin_txt.append(_sentence)\n",
    "        y.append(int(_label))\n",
    "        words = nltk.word_tokenize(_sentence.lower())\n",
    "        _seq = []\n",
    "        for word in words:\n",
    "            if word in word2idx.keys():\n",
    "                _seq.append(word2idx[word])\n",
    "            else:\n",
    "                _seq.append(word2idx['UNK'])\n",
    "        if len(_seq) < MAX_SENTENCE_LENGTH:\n",
    "            _seq.extend([0] * ((MAX_SENTENCE_LENGTH) - len(_seq)))\n",
    "        else:\n",
    "            _seq = _seq[:MAX_SENTENCE_LENGTH]\n",
    "        x.append(_seq)\n",
    "\n",
    "pd.DataFrame(y, columns = ['yn']).reset_index().groupby('yn').count().reset_index()"
   ]
  },
  {
   "cell_type": "code",
   "execution_count": 4,
   "metadata": {
    "ExecuteTime": {
     "end_time": "2018-07-10T05:59:30.013921Z",
     "start_time": "2018-07-10T05:59:29.870606Z"
    }
   },
   "outputs": [],
   "source": [
    "## Data process - tr/va split and define iterator\n",
    "\n",
    "tr_idx = np.random.choice(range(len(x)), int(len(x) * .8))\n",
    "va_idx = [x for x in range(len(x)) if x not in tr_idx]\n",
    "\n",
    "tr_x = [x[i] for i in tr_idx]\n",
    "tr_y = [y[i] for i in tr_idx]\n",
    "va_x = [x[i] for i in va_idx]\n",
    "va_y = [y[i] for i in va_idx]\n",
    "\n",
    "batch_size = 16\n",
    "\n",
    "learning_rate = .0002\n",
    "log_interval = 100\n",
    "\n",
    "\n",
    "train_data = mx.io.NDArrayIter(data=[tr_x, tr_y], batch_size=batch_size, shuffle = False)\n",
    "valid_data = mx.io.NDArrayIter(data=[va_x, va_y], batch_size=batch_size, shuffle = False)"
   ]
  },
  {
   "cell_type": "markdown",
   "metadata": {},
   "source": [
    "## Define Relation Network\n",
    "\n",
    "  * Apply the following calculation to every pair of words in the sentence\n",
    "  \n",
    "  $$ f(x_i, x_j ) =W \\phi(U_{left} e_i + U_{right} e_j)$$\n",
    "  \n",
    "  * It is hard to distinguish between sentence representation step and classification one, since they needs to be done simultaneously\n",
    "     - For RN, sentence representation and classification needs to be trained at the same time\n",
    "     - They are connected as parts of the network\n",
    "  * For your information, please note that\n",
    "    - BOW: Simply take sum or average of one-hot tokenvector as sentence representation. Various classifier can be applied to the resulting sentence representation\n",
    "    - CBOW: improves BoW by reducing its dimensionality using various embedding techiniques. But still ignores order information. Use embedding vector as input of classifier\n"
   ]
  },
  {
   "cell_type": "code",
   "execution_count": 5,
   "metadata": {
    "ExecuteTime": {
     "end_time": "2018-07-10T05:59:32.466465Z",
     "start_time": "2018-07-10T05:59:32.461748Z"
    }
   },
   "outputs": [],
   "source": [
    "from mxnet import gluon, autograd, nd\n",
    "from mxnet.gluon import nn\n",
    "import mxnet as mx\n",
    "context = mx.gpu()"
   ]
  },
  {
   "cell_type": "code",
   "execution_count": 11,
   "metadata": {
    "ExecuteTime": {
     "end_time": "2018-07-10T06:00:46.267294Z",
     "start_time": "2018-07-10T06:00:46.253907Z"
    }
   },
   "outputs": [],
   "source": [
    "class RN_Classifier(nn.HybridBlock):\n",
    "    def __init__(self, HIDDEN_DIM, SENTENCE_LENGTH, VOCAB_SIZE, **kwargs):\n",
    "        super(RN_Classifier, self).__init__(**kwargs)\n",
    "        \n",
    "        self.HIDDEN_DIM = HIDDEN_DIM\n",
    "        self.SENTENCE_LENGTH = SENTENCE_LENGTH\n",
    "        self.VOCAB_SIZE = VOCAB_SIZE\n",
    "        with self.name_scope():\n",
    "            self.embed = nn.Embedding(VOCAB_SIZE, HIDDEN_DIM)\n",
    "            self.g_fc1 = nn.Dense(256,activation='relu')\n",
    "            self.g_fc2 = nn.Dense(256,activation='relu')\n",
    "            #self.g_fc3 = nn.Dense(256,activation='relu')\n",
    "            #self.g_fc4 = nn.Dense(256,activation='relu')\n",
    "\n",
    "            self.fc1 = nn.Dense(128, activation = 'relu') # 256 * 128\n",
    "            self.fc2 = nn.Dense(1) # 128 * 2\n",
    "            # 1253632 param : 약 20MB\n",
    "    def hybrid_forward(self, F, x):\n",
    "        # (x_i, x_j)의 pair를 만들기\n",
    "        # 64 배치를 가정하면\n",
    "        \n",
    "        x = self.embed(x)\n",
    "        x_i = x.expand_dims(1) # 64 * 1* 40 * 2000* : 0.02GB\n",
    "        x_i = F.repeat(x_i,repeats= self.SENTENCE_LENGTH, axis=1) # 64 * 40 * 40 * 2000: 1.52GB\n",
    "        x_j = x.expand_dims(2) # 64 * 40 * 1 * 2000\n",
    "        x_j = F.repeat(x_j,repeats= self.SENTENCE_LENGTH, axis=2) # 64 * 40 * 40 * 2000: 1.52GB\n",
    "        x_full = F.concat(x_i,x_j,dim=3) # 64 * 40 * 40 * 4000: 3.04GB\n",
    "        \n",
    "        # batch*sentence_length*sentence_length개의 batch를 가진 2*VOCABULARY input을 network에 feed\n",
    "        _x = x_full.reshape((-1, 2 * self.HIDDEN_DIM))\n",
    "        \n",
    "        _x = self.g_fc1(_x) # (64 * 40 * 40) * 256: .1GB 추가메모리는 안먹나?\n",
    "        _x = self.g_fc2(_x) # (64 * 40 * 40) * 256: .1GB (reuse)\n",
    "        #_x = self.g_fc3(_x) # (64 * 40 * 40) * 256: .1GB (reuse)\n",
    "        #_x = self.g_fc4(_x) # (64 * 40 * 40) * 256: .1GB (reuse)\n",
    "        \n",
    "        # sentence_length*sentence_length개의 결과값을 모두 합해서 sentence representation으로 나타냄\n",
    "        x_g = _x.reshape((-1, self.SENTENCE_LENGTH * self.SENTENCE_LENGTH,256)) # (64, 40*40, 256) : .1GB\n",
    "        sentence_rep = x_g.sum(1) # (64, 256): ignorable\n",
    "        \n",
    "        # Check dimension\n",
    "        #print('shape = {}'.format(x.shape))\n",
    "        #print('shape = {}'.format(x.shape))\n",
    "        #print('shape = {}'.format(x_i.shape))\n",
    "        #print('shape = {}'.format(x_i.shape))\n",
    "        #print('shape = {}'.format(x_j.shape))\n",
    "        #print('shape = {}'.format(x_j.shape))\n",
    "        #print('x_full shape = {}'.format(x_full.shape))\n",
    "        #print('_x shape = {}'.format(_x.shape))\n",
    "        #print('g_fc1 shape = {}'.format(_x.shape))\n",
    "        #print('shape = {}'.format(x_g.shape))\n",
    "        \n",
    "        # 여기서부터는 classifier\n",
    "        clf = self.fc1(sentence_rep)\n",
    "        clf = self.fc2(clf)\n",
    "        \n",
    "        return clf"
   ]
  },
  {
   "cell_type": "code",
   "execution_count": 13,
   "metadata": {
    "ExecuteTime": {
     "end_time": "2018-07-10T06:01:27.612458Z",
     "start_time": "2018-07-10T06:01:27.592141Z"
    }
   },
   "outputs": [],
   "source": [
    "hidden_dim = 30\n",
    "rn = RN_Classifier(hidden_dim, MAX_SENTENCE_LENGTH, MAX_VOCAB)\n",
    "rn.collect_params().initialize(mx.init.Xavier(), ctx = context)\n",
    "loss = gluon.loss.SigmoidBCELoss()\n",
    "trainer = gluon.Trainer(rn.collect_params(), 'adam', {'learning_rate': 1e-3})"
   ]
  },
  {
   "cell_type": "code",
   "execution_count": 14,
   "metadata": {
    "ExecuteTime": {
     "end_time": "2018-07-10T06:01:28.905698Z",
     "start_time": "2018-07-10T06:01:28.902336Z"
    }
   },
   "outputs": [],
   "source": [
    "n_epoch = 10"
   ]
  },
  {
   "cell_type": "code",
   "execution_count": 15,
   "metadata": {
    "ExecuteTime": {
     "end_time": "2018-07-10T06:01:30.083508Z",
     "start_time": "2018-07-10T06:01:30.073038Z"
    }
   },
   "outputs": [],
   "source": [
    "def evaluate(net, dataIterator, context):\n",
    "    dataIterator.reset()\n",
    "    loss = gluon.loss.SigmoidBCELoss()\n",
    "    total_L = 0.0\n",
    "    total_sample_num = 0\n",
    "    total_correct_num = 0\n",
    "    start_log_interval_time = time.time()\n",
    "    for i, batch in enumerate(dataIterator):\n",
    "        data =  batch.data[0].as_in_context(context)\n",
    "        label = batch.data[1].as_in_context(context)\n",
    "        output = net(data)\n",
    "        L = loss(output, label)\n",
    "        pred = (output > 0.5).reshape((-1,))\n",
    "        #print('cor = {}'.format(pred == label))\n",
    "        total_L += L.sum().asscalar()\n",
    "        total_sample_num += len(label)\n",
    "        total_correct_num += (pred == label).sum().asscalar()\n",
    "        #print('total_correct_num = {}, total_correct_num = {}'.format(total_correct_num, total_sample_num))\n",
    "        if (i + 1) % log_interval == 0:\n",
    "            print('[Batch {}/{}] elapsed {:.2f} s'.format(\n",
    "                i + 1, dataIterator.num_data//dataIterator.batch_size,\n",
    "                time.time() - start_log_interval_time))\n",
    "            start_log_interval_time = time.time()\n",
    "    avg_L = total_L / float(total_sample_num)\n",
    "    acc = total_correct_num / float(total_sample_num)\n",
    "    return avg_L, acc"
   ]
  },
  {
   "cell_type": "code",
   "execution_count": 16,
   "metadata": {
    "ExecuteTime": {
     "end_time": "2018-07-10T06:02:15.762975Z",
     "start_time": "2018-07-10T06:01:34.074742Z"
    }
   },
   "outputs": [
    {
     "data": {
      "application/vnd.jupyter.widget-view+json": {
       "model_id": "79255394b02349fdb5ded46fcfd43179",
       "version_major": 2,
       "version_minor": 0
      },
      "text/plain": [
       "HBox(children=(IntProgress(value=0, description='epoch', max=10), HTML(value='')))"
      ]
     },
     "metadata": {},
     "output_type": "display_data"
    },
    {
     "name": "stdout",
     "output_type": "stream",
     "text": [
      "[Epoch 0 Batch 100/354] elapsed 0.96 s,                     avg loss 0.021298, throughput 1.67K wps\n",
      "[Epoch 0 Batch 200/354] elapsed 0.94 s,                     avg loss 0.001197, throughput 1.70K wps\n",
      "[Epoch 0 Batch 300/354] elapsed 0.94 s,                     avg loss 0.000346, throughput 1.70K wps\n",
      "[Batch 100/198] elapsed 0.40 s\n",
      "[Epoch 0] train avg loss 0.006460, valid acc 0.99,         valid avg loss 0.044517, throughput 1.69K wps\n",
      "[Epoch 1 Batch 100/354] elapsed 0.94 s,                     avg loss 0.000145, throughput 1.70K wps\n",
      "[Epoch 1 Batch 200/354] elapsed 0.94 s,                     avg loss 0.000134, throughput 1.70K wps\n",
      "[Epoch 1 Batch 300/354] elapsed 0.94 s,                     avg loss 0.000032, throughput 1.71K wps\n",
      "[Batch 100/198] elapsed 0.40 s\n",
      "[Epoch 1] train avg loss 0.000088, valid acc 0.99,         valid avg loss 0.060312, throughput 1.70K wps\n",
      "[Epoch 2 Batch 100/354] elapsed 0.94 s,                     avg loss 0.000235, throughput 1.70K wps\n",
      "[Epoch 2 Batch 200/354] elapsed 0.94 s,                     avg loss 0.000015, throughput 1.70K wps\n",
      "[Epoch 2 Batch 300/354] elapsed 0.94 s,                     avg loss 0.000002, throughput 1.71K wps\n",
      "[Batch 100/198] elapsed 0.41 s\n",
      "[Epoch 2] train avg loss 0.000076, valid acc 0.98,         valid avg loss 0.071900, throughput 1.70K wps\n",
      "[Epoch 3 Batch 100/354] elapsed 0.94 s,                     avg loss 0.000115, throughput 1.70K wps\n",
      "[Epoch 3 Batch 200/354] elapsed 0.94 s,                     avg loss 0.000474, throughput 1.71K wps\n",
      "[Epoch 3 Batch 300/354] elapsed 0.95 s,                     avg loss 0.000003, throughput 1.68K wps\n",
      "[Batch 100/198] elapsed 0.41 s\n",
      "[Epoch 3] train avg loss 0.000167, valid acc 0.99,         valid avg loss 0.060559, throughput 1.69K wps\n",
      "[Epoch 4 Batch 100/354] elapsed 0.94 s,                     avg loss 0.000075, throughput 1.70K wps\n",
      "[Epoch 4 Batch 200/354] elapsed 0.95 s,                     avg loss 0.000252, throughput 1.69K wps\n",
      "[Epoch 4 Batch 300/354] elapsed 0.94 s,                     avg loss 0.000003, throughput 1.70K wps\n",
      "[Batch 100/198] elapsed 0.41 s\n",
      "[Epoch 4] train avg loss 0.000093, valid acc 0.99,         valid avg loss 0.055916, throughput 1.70K wps\n",
      "[Epoch 5 Batch 100/354] elapsed 0.95 s,                     avg loss 0.000000, throughput 1.69K wps\n",
      "[Epoch 5 Batch 200/354] elapsed 0.94 s,                     avg loss 0.000147, throughput 1.70K wps\n",
      "[Epoch 5 Batch 300/354] elapsed 0.94 s,                     avg loss 0.000020, throughput 1.70K wps\n",
      "[Batch 100/198] elapsed 0.42 s\n",
      "[Epoch 5] train avg loss 0.000047, valid acc 0.99,         valid avg loss 0.087699, throughput 1.69K wps\n",
      "[Epoch 6 Batch 100/354] elapsed 0.95 s,                     avg loss 0.000045, throughput 1.69K wps\n",
      "[Epoch 6 Batch 200/354] elapsed 0.94 s,                     avg loss 0.000499, throughput 1.70K wps\n",
      "[Epoch 6 Batch 300/354] elapsed 0.94 s,                     avg loss 0.000230, throughput 1.70K wps\n",
      "[Batch 100/198] elapsed 0.42 s\n",
      "[Epoch 6] train avg loss 0.000218, valid acc 0.99,         valid avg loss 0.081549, throughput 1.70K wps\n",
      "[Epoch 7 Batch 100/354] elapsed 0.94 s,                     avg loss 0.000110, throughput 1.70K wps\n",
      "[Epoch 7 Batch 200/354] elapsed 0.95 s,                     avg loss 0.000239, throughput 1.68K wps\n",
      "[Epoch 7 Batch 300/354] elapsed 0.95 s,                     avg loss 0.000009, throughput 1.69K wps\n",
      "[Batch 100/198] elapsed 0.40 s\n",
      "[Epoch 7] train avg loss 0.000101, valid acc 0.99,         valid avg loss 0.064236, throughput 1.69K wps\n",
      "[Epoch 8 Batch 100/354] elapsed 0.94 s,                     avg loss 0.000046, throughput 1.70K wps\n",
      "[Epoch 8 Batch 200/354] elapsed 0.95 s,                     avg loss 0.000075, throughput 1.69K wps\n",
      "[Epoch 8 Batch 300/354] elapsed 0.94 s,                     avg loss 0.000007, throughput 1.69K wps\n",
      "[Batch 100/198] elapsed 0.40 s\n",
      "[Epoch 8] train avg loss 0.000036, valid acc 0.99,         valid avg loss 0.060001, throughput 1.70K wps\n",
      "[Epoch 9 Batch 100/354] elapsed 0.94 s,                     avg loss 0.000030, throughput 1.70K wps\n",
      "[Epoch 9 Batch 200/354] elapsed 0.96 s,                     avg loss 0.000046, throughput 1.67K wps\n",
      "[Epoch 9 Batch 300/354] elapsed 0.95 s,                     avg loss 0.000002, throughput 1.68K wps\n",
      "[Batch 100/198] elapsed 0.40 s\n",
      "[Epoch 9] train avg loss 0.000022, valid acc 0.99,         valid avg loss 0.064057, throughput 1.68K wps\n"
     ]
    }
   ],
   "source": [
    "for epoch in tqdm_notebook(range(n_epoch), desc = 'epoch'):\n",
    "    ## Training\n",
    "    train_data.reset()\n",
    "    # Epoch training stats\n",
    "    start_epoch_time = time.time()\n",
    "    epoch_L = 0.0\n",
    "    epoch_sent_num = 0\n",
    "    epoch_wc = 0\n",
    "    # Log interval training stats\n",
    "    start_log_interval_time = time.time()\n",
    "    log_interval_wc = 0\n",
    "    log_interval_sent_num = 0\n",
    "    log_interval_L = 0.0\n",
    "    \n",
    "    for i, batch in enumerate(train_data):\n",
    "        _data = batch.data[0].as_in_context(context)\n",
    "        _label = batch.data[1].as_in_context(context)\n",
    "        L = 0\n",
    "        wc = len(_data)\n",
    "        log_interval_wc += wc\n",
    "        epoch_wc += wc\n",
    "        log_interval_sent_num += _data.shape[1]\n",
    "        epoch_sent_num += _data.shape[1]\n",
    "        with autograd.record():\n",
    "            _out = rn(_data)\n",
    "            L = L + loss(_out, _label).mean().as_in_context(context)\n",
    "        L.backward()\n",
    "        trainer.step(_data.shape[0])\n",
    "        log_interval_L += L.asscalar()\n",
    "        epoch_L += L.asscalar()\n",
    "        if (i + 1) % log_interval == 0:\n",
    "            tqdm.write('[Epoch {} Batch {}/{}] elapsed {:.2f} s, \\\n",
    "                    avg loss {:.6f}, throughput {:.2f}K wps'.format(\n",
    "                    epoch, i + 1, train_data.num_data//train_data.batch_size,\n",
    "                    time.time() - start_log_interval_time,\n",
    "                    log_interval_L / log_interval_sent_num,\n",
    "                    log_interval_wc / 1000 / (time.time() - start_log_interval_time)))\n",
    "            # Clear log interval training stats\n",
    "            start_log_interval_time = time.time()\n",
    "            log_interval_wc = 0\n",
    "            log_interval_sent_num = 0\n",
    "            log_interval_L = 0\n",
    "    end_epoch_time = time.time()\n",
    "    test_avg_L, test_acc = evaluate(rn, valid_data, context)\n",
    "    tqdm.write('[Epoch {}] train avg loss {:.6f}, valid acc {:.2f}, \\\n",
    "        valid avg loss {:.6f}, throughput {:.2f}K wps'.format(\n",
    "        epoch, epoch_L / epoch_sent_num,\n",
    "        test_acc, test_avg_L, epoch_wc / 1000 /\n",
    "        (end_epoch_time - start_epoch_time)))"
   ]
  },
  {
   "cell_type": "code",
   "execution_count": null,
   "metadata": {},
   "outputs": [],
   "source": [
    "va_txt = pd.DataFrame(np.array([origin_txt[idx] for idx in va_idx]), columns = ['txt'])\n",
    "pred_rn = rn(va_txt)\n",
    "pred_rn_pd = pd.DataFrame(pred_rn, columns  = ['pred_rn'])\n",
    "label_pd = pd.DataFrame(va_y, columns = ['label'])\n",
    "result = pd.concat([va_txt, pred_rn, label_pd], axis = 1)"
   ]
  },
  {
   "cell_type": "markdown",
   "metadata": {},
   "source": [
    "### Result\n",
    "\n",
    "* Only 33 comments are mis-classified"
   ]
  },
  {
   "cell_type": "code",
   "execution_count": null,
   "metadata": {},
   "outputs": [],
   "source": [
    "result[result['pred_rn'] != result['label']].shape"
   ]
  }
 ],
 "metadata": {
  "kernelspec": {
   "display_name": "Python 3",
   "language": "python",
   "name": "python3"
  },
  "language_info": {
   "codemirror_mode": {
    "name": "ipython",
    "version": 3
   },
   "file_extension": ".py",
   "mimetype": "text/x-python",
   "name": "python",
   "nbconvert_exporter": "python",
   "pygments_lexer": "ipython3",
   "version": "3.6.5"
  }
 },
 "nbformat": 4,
 "nbformat_minor": 2
}
