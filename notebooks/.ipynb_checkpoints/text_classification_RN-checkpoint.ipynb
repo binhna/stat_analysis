{
 "cells": [
  {
   "cell_type": "markdown",
   "metadata": {},
   "source": [
    "#### REF\n",
    "* https://github.com/dmlc/gluon-nlp/blob/master/docs/api/notes/data_api.rst"
   ]
  },
  {
   "cell_type": "markdown",
   "metadata": {},
   "source": [
    "## Data Loading"
   ]
  },
  {
   "cell_type": "code",
   "execution_count": 1,
   "metadata": {
    "ExecuteTime": {
     "end_time": "2018-07-04T04:17:55.562224Z",
     "start_time": "2018-07-04T04:17:54.161752Z"
    }
   },
   "outputs": [],
   "source": [
    "import os\n",
    "import pandas as pd\n",
    "import numpy as np\n",
    "import nltk\n",
    "import collections\n",
    "from sklearn.preprocessing import normalize\n",
    "from sklearn.metrics import accuracy_score, auc\n",
    "from mxnet import gluon\n",
    "import gluonnlp as nlp\n",
    "\n",
    "import time, re\n",
    "import multiprocessing as mp\n",
    "import itertools\n",
    "from tqdm import tqdm, tqdm_notebook"
   ]
  },
  {
   "cell_type": "markdown",
   "metadata": {},
   "source": [
    "### Word as token"
   ]
  },
  {
   "cell_type": "code",
   "execution_count": 39,
   "metadata": {},
   "outputs": [],
   "source": [
    "MAX_SENTENCE_LENGTH = 40\n",
    "MAX_FEATURES = 2000"
   ]
  },
  {
   "cell_type": "code",
   "execution_count": 40,
   "metadata": {
    "ExecuteTime": {
     "end_time": "2018-07-04T04:18:17.610371Z",
     "start_time": "2018-07-04T04:18:13.317581Z"
    }
   },
   "outputs": [],
   "source": [
    "train_dataset, test_dataset = [nlp.data.IMDB(segment = segment) for segment in ('train', 'test')]\n",
    "\n",
    "train_seqs = [sample[0] for sample in train_dataset]\n",
    "# => 2,5000 sentences\n",
    "\n",
    "counter = nlp.data.count_tokens(list(itertools.chain.from_iterable((re.split(' |\\n', x) for x in train_seqs))))\n",
    "# => 281158 tokens\n",
    "\n",
    "vocab = nlp.Vocab(counter, max_size=MAX_FEATURES, padding_token=None, bos_token=None, eos_token=None)\n",
    "# => 2000 vocabs"
   ]
  },
  {
   "cell_type": "code",
   "execution_count": 42,
   "metadata": {
    "ExecuteTime": {
     "end_time": "2018-07-04T04:18:38.386130Z",
     "start_time": "2018-07-04T04:18:21.429593Z"
    }
   },
   "outputs": [
    {
     "name": "stdout",
     "output_type": "stream",
     "text": [
      "Tokenize using spaCy...\n",
      "Done! Tokenizing Time=9.08s, #Sentences=25000\n",
      "Done! Tokenizing Time=7.82s, #Sentences=25000\n"
     ]
    }
   ],
   "source": [
    "print(\"Tokenize using spaCy...\")\n",
    "# tokenizer takes as input a string and outputs a list of tokens.\n",
    "tokenizer = nlp.data.SpacyTokenizer('en')\n",
    "# length_clip takes as input a list and outputs a list with maximum length 500.\n",
    "length_clip = nlp.data.ClipSequence(MAX_SENTENCE_LENGTH)\n",
    "\n",
    "def preprocess(x):\n",
    "    data, label = x\n",
    "    # In the labeled train/test sets, a negative review has a score <= 4\n",
    "    # out of 10, and a positive review has a score >= 7 out of 10. Thus\n",
    "    # reviews with more neutral ratings are not included in the train/test\n",
    "    # sets. We labeled a negative review whose score <= 4 as 0, and a\n",
    "    # positive review whose score >= 7 as 1. As the neural ratings are not\n",
    "    # included in the datasets, we can simply use 5 as our threshold.\n",
    "    label = int(label > 5)\n",
    "    # A token index or a list of token indices is\n",
    "    # returned according to the vocabulary.\n",
    "    data = vocab[length_clip(tokenizer(data))]\n",
    "    return data, label, float(len(data))\n",
    "\n",
    "def get_length(x):\n",
    "    return float(len(x[0]))\n",
    "\n",
    "def preprocess_dataset(dataset):\n",
    "    start = time.time()\n",
    "    with mp.Pool() as pool:\n",
    "        # Each sample is processed in an asynchronous manner.\n",
    "        dataset = gluon.data.SimpleDataset(pool.map(preprocess, dataset))\n",
    "        lengths = gluon.data.SimpleDataset(pool.map(get_length, dataset))\n",
    "    end = time.time()\n",
    "    print('Done! Tokenizing Time={:.2f}s, #Sentences={}'.format(end - start, len(dataset)))\n",
    "    return dataset, lengths\n",
    "\n",
    "train_dataset, train_data_lengths = preprocess_dataset(train_dataset)\n",
    "test_dataset, test_data_lengths = preprocess_dataset(test_dataset)"
   ]
  },
  {
   "cell_type": "markdown",
   "metadata": {},
   "source": [
    "### Parameters"
   ]
  },
  {
   "cell_type": "code",
   "execution_count": 43,
   "metadata": {},
   "outputs": [],
   "source": [
    "num_gpus = 0\n",
    "batch_size = 64\n",
    "bucket_num = 10\n",
    "bucket_ratio = .2\n",
    "\n",
    "dropout = 0\n",
    "learning_rate = .0002\n",
    "epochs = 1\n",
    "log_interval = 100"
   ]
  },
  {
   "cell_type": "code",
   "execution_count": 44,
   "metadata": {
    "ExecuteTime": {
     "end_time": "2018-07-03T14:21:35.118497Z",
     "start_time": "2018-07-03T14:21:35.011723Z"
    }
   },
   "outputs": [],
   "source": [
    "# (data, label, length): (64 * 500), (64,), (64,)\n",
    "\n",
    "# Pad data, stack label and lengths\n",
    "batchify_fn = nlp.data.batchify.Tuple(nlp.data.batchify.Pad(axis=0),\n",
    "                                          nlp.data.batchify.Stack(),\n",
    "                                          nlp.data.batchify.Stack())\n",
    "\n",
    "batch_sampler = nlp.data.sampler.FixedBucketSampler(train_data_lengths,\n",
    "                                                        batch_size=batch_size,\n",
    "                                                        num_buckets=bucket_num,\n",
    "                                                        ratio=bucket_ratio,\n",
    "                                                        shuffle=True)\n",
    "train_dataloader = gluon.data.DataLoader(dataset=train_dataset,\n",
    "                                             batch_sampler=batch_sampler,\n",
    "                                             batchify_fn=batchify_fn)\n",
    "test_dataloader = gluon.data.DataLoader(dataset=test_dataset,\n",
    "                                            batch_size=batch_size,\n",
    "                                            shuffle=False,\n",
    "                                            batchify_fn=batchify_fn)"
   ]
  },
  {
   "cell_type": "code",
   "execution_count": 45,
   "metadata": {
    "ExecuteTime": {
     "end_time": "2018-07-03T14:22:17.945186Z",
     "start_time": "2018-07-03T14:22:17.892100Z"
    }
   },
   "outputs": [
    {
     "data": {
      "text/plain": [
       "(64, 40)"
      ]
     },
     "execution_count": 45,
     "metadata": {},
     "output_type": "execute_result"
    }
   ],
   "source": [
    "for i, (a, b, c) in enumerate(train_dataloader):\n",
    "    a, b, c = a, b, c\n",
    "    if i == 0:\n",
    "        break\n",
    "\n",
    "a.shape"
   ]
  },
  {
   "cell_type": "markdown",
   "metadata": {},
   "source": [
    "### Another Data preparation\n",
    "* Input data shape::$ (batch \\times word \\times vocab )$ \n",
    "* Split data: training & validation\n",
    "* Create data iterator for training"
   ]
  },
  {
   "cell_type": "code",
   "execution_count": 19,
   "metadata": {
    "ExecuteTime": {
     "end_time": "2018-07-04T04:14:32.900402Z",
     "start_time": "2018-07-04T04:13:44.790347Z"
    }
   },
   "outputs": [],
   "source": [
    "word_freq = collections.Counter()\n",
    "max_len = 0\n",
    "num_rec = 0\n",
    "\n",
    "with open('../data/umich-sentiment-train.txt', 'rb') as f:\n",
    "    for line in f:\n",
    "        label, sentence = line.decode('utf8').strip().split('\\t')\n",
    "        words = nltk.word_tokenize(sentence.lower())\n",
    "        if len(words) > max_len:\n",
    "            max_len = len(words)\n",
    "        for word in words:\n",
    "            word_freq[word] += 1\n",
    "        num_rec += 1\n",
    "\n",
    "# most_common output -> list\n",
    "word2idx = {x[0]: i+2 for i, x in enumerate(word_freq.most_common(MAX_FEATURES - 2))}\n",
    "word2idx ['PAD'] = 0\n",
    "word2idx['UNK'] = 1\n",
    "\n",
    "idx2word= {i:v for v, i in word2idx.items()}\n",
    "vocab_size = len(word2idx)\n",
    "\n",
    "y = []\n",
    "x = []\n",
    "origin_txt = []\n",
    "with open('../data/umich-sentiment-train.txt', 'rb') as f:\n",
    "    for line in f:\n",
    "        _label, _sentence = line.decode('utf8').strip().split('\\t')\n",
    "        origin_txt.append(_sentence)\n",
    "        y.append(int(_label))\n",
    "        words = nltk.word_tokenize(_sentence.lower())\n",
    "        _seq = []\n",
    "        for word in words:\n",
    "            if word in word2idx.keys():\n",
    "                _seq.append(word2idx[word])\n",
    "            else:\n",
    "                _seq.append(word2idx['UNK'])\n",
    "        if len(_seq) < MAX_SENTENCE_LENGTH:\n",
    "            _seq.extend([0] * ((MAX_SENTENCE_LENGTH) - len(_seq)))\n",
    "        else:\n",
    "            _seq = _seq[:MAX_SENTENCE_LENGTH]\n",
    "        x.append(_seq)\n",
    "\n",
    "pd.DataFrame(y, columns = ['yn']).reset_index().groupby('yn').count().reset_index()\n",
    "\n",
    "## Sentence representation: Average of BOW\n",
    "\n",
    "def one_hot(x, vocab_size):\n",
    "    res = np.zeros(shape = (vocab_size))\n",
    "    res[x] = 1\n",
    "    return res\n",
    "\n",
    "x_1 = np.array([np.sum(np.array([one_hot(word, MAX_FEATURES) for word in example]), axis = 0) for example in x])\n",
    "\n",
    "## Data process - tr/va split and define iterator\n",
    "\n",
    "tr_idx = np.random.choice(range(x_1.shape[0]), int(x_1.shape[0] * .8))\n",
    "va_idx = [x for x in range(x_1.shape[0]) if x not in tr_idx]\n",
    "\n",
    "tr_x = x_1[tr_idx, :]\n",
    "tr_y = [y[i] for i in tr_idx]\n",
    "va_x = x_1[va_idx, :]\n",
    "va_y = [y[i] for i in va_idx]\n",
    "\n",
    "import mxnet as mx\n",
    "batch_size = 16\n",
    "train_data = mx.io.NDArrayIter(data=[tr_x, tr_y], batch_size=batch_size, shuffle = False)\n",
    "valid_data = mx.io.NDArrayIter(data=[va_x, va_y], batch_size=batch_size, shuffle = False)"
   ]
  },
  {
   "cell_type": "markdown",
   "metadata": {},
   "source": [
    "## Define Relation Network\n",
    "\n",
    "  * Apply the following calculation to every pair of words in the sentence\n",
    "  \n",
    "  $$ f(x_i, x_j ) =W \\phi(U_{left} e_i + U_{right} e_j)$$\n",
    "  \n",
    "  * It is hard to distinguish between sentence representation step and classification one, since they needs to be done simultaneously\n",
    "     - For RN, sentence representation and classification needs to be trained at the same time\n",
    "     - They are connected as parts of the network\n",
    "  * For your information, please note that\n",
    "    - BOW: Simply take sum or average of one-hot tokenvector as sentence representation. Various classifier can be applied to the resulting sentence representation\n",
    "    - CBOW: improves BoW by reducing its dimensionality using various embedding techiniques. But still ignores order information. Use embedding vector as input of classifier\n"
   ]
  },
  {
   "cell_type": "code",
   "execution_count": 48,
   "metadata": {
    "ExecuteTime": {
     "end_time": "2018-07-04T04:15:39.135847Z",
     "start_time": "2018-07-04T04:15:39.131935Z"
    }
   },
   "outputs": [],
   "source": [
    "from mxnet import gluon, autograd, nd\n",
    "from mxnet.gluon import nn\n",
    "import mxnet as mx\n",
    "context = mx.cpu()"
   ]
  },
  {
   "cell_type": "code",
   "execution_count": 132,
   "metadata": {
    "ExecuteTime": {
     "end_time": "2018-07-04T04:15:41.146791Z",
     "start_time": "2018-07-04T04:15:41.135069Z"
    }
   },
   "outputs": [],
   "source": [
    "class RN_Classifier(nn.HybridBlock):\n",
    "    def __init__(self, HIDDEN_DIM, SENTENCE_LENGTH, **kwargs):\n",
    "        super(RN_Classifier, self).__init__(**kwargs)\n",
    "        self.SENTENCE_LENGTH = SENTENCE_LENGTH\n",
    "        self.HIDDEN_DIM = HIDDEN_DIM\n",
    "        with self.name_scope():\n",
    "            self.embed = nn.Embedding(SENTENCE_LENGTH, HIDDEN_DIM)\n",
    "            self.g_fc1 = nn.Dense(256,activation='relu')\n",
    "            #self.g_fc2 = nn.Dense(256,activation='relu')\n",
    "            #self.g_fc3 = nn.Dense(256,activation='relu')\n",
    "            #self.g_fc4 = nn.Dense(256,activation='relu')\n",
    "\n",
    "            self.fc1 = nn.Dense(128, activation = 'relu') # 256 * 128\n",
    "            self.fc2 = nn.Dense(1) # 128 * 2\n",
    "            # 1253632 param : 약 20MB\n",
    "    def hybrid_forward(self, F, x):\n",
    "        # (x_i, x_j)의 pair를 만들기\n",
    "        # 64 배치를 가정하면\n",
    "        \n",
    "        x = self.embed(x)\n",
    "        x_i = x.expand_dims(1) # 64 * 1* 40 * 2000* : 0.02GB\n",
    "        x_i = F.repeat(x_i,repeats= self.SENTENCE_LENGTH, axis=1) # 64 * 40 * 40 * 2000: 1.52GB\n",
    "        x_j = x.expand_dims(2) # 64 * 40 * 1 * 2000\n",
    "        x_j = F.repeat(x_j,repeats= self.SENTENCE_LENGTH, axis=2) # 64 * 40 * 40 * 2000: 1.52GB\n",
    "        x_full = F.concat(x_i,x_j,dim=3) # 64 * 40 * 40 * 4000: 3.04GB\n",
    "        \n",
    "        # batch*sentence_length*sentence_length개의 batch를 가진 2*VOCABULARY input을 network에 feed\n",
    "        _x = x_full.reshape((-1, 2 * self.HIDDEN_DIM))\n",
    "        \n",
    "        _x = self.g_fc1(_x) # (64 * 40 * 40) * 256: .1GB 추가메모리는 안먹나?\n",
    "        \n",
    "        #_x = self.g_fc2(_x) # (64 * 40 * 40) * 256: .1GB (reuse)\n",
    "        #_x = self.g_fc3(_x) # (64 * 40 * 40) * 256: .1GB (reuse)\n",
    "        #_x = self.g_fc4(_x) # (64 * 40 * 40) * 256: .1GB (reuse)\n",
    "        \n",
    "        # sentence_length*sentence_length개의 결과값을 모두 합해서 sentence representation으로 나타냄\n",
    "        x_g = _x.reshape((-1, self.SENTENCE_LENGTH * self.SENTENCE_LENGTH,256)) # (64, 40*40, 256) : .1GB\n",
    "        sentence_rep = x_g.sum(1) # (64, 256): ignorable\n",
    "        \n",
    "        # Check dimension\n",
    "        #print('shape = {}'.format(x.shape))\n",
    "        #print('shape = {}'.format(x.shape))\n",
    "        #print('shape = {}'.format(x_i.shape))\n",
    "        #print('shape = {}'.format(x_i.shape))\n",
    "        #print('shape = {}'.format(x_j.shape))\n",
    "        #print('shape = {}'.format(x_j.shape))\n",
    "        #print('x_full shape = {}'.format(x_full.shape))\n",
    "        #print('_x shape = {}'.format(_x.shape))\n",
    "        #print('g_fc1 shape = {}'.format(_x.shape))\n",
    "        #print('shape = {}'.format(x_g.shape))\n",
    "        \n",
    "        # 여기서부터는 classifier\n",
    "        clf = self.fc1(sentence_rep)\n",
    "        clf = self.fc2(clf)\n",
    "        \n",
    "        return clf"
   ]
  },
  {
   "cell_type": "code",
   "execution_count": 127,
   "metadata": {},
   "outputs": [],
   "source": [
    "z = nd.random.uniform(shape = (64, 40), ctx = context)\n",
    "rn = RN_Classifier(200, 40)\n",
    "rn.collect_params().initialize(mx.init.Xavier(), ctx = context)\n",
    "#print(rn(z))\n",
    "#print(rn)"
   ]
  },
  {
   "cell_type": "code",
   "execution_count": 133,
   "metadata": {
    "ExecuteTime": {
     "end_time": "2018-07-04T04:15:45.120579Z",
     "start_time": "2018-07-04T04:15:44.964074Z"
    }
   },
   "outputs": [],
   "source": [
    "rn = RN_Classifier(100, MAX_SENTENCE_LENGTH)\n",
    "rn.collect_params().initialize(mx.init.Xavier(), ctx = context)\n",
    "loss = gluon.loss.SigmoidBCELoss()\n",
    "trainer = gluon.Trainer(rn.collect_params(), 'adam', {'learning_rate': 1e-3})"
   ]
  },
  {
   "cell_type": "code",
   "execution_count": 134,
   "metadata": {},
   "outputs": [],
   "source": [
    "n_epoch = 10"
   ]
  },
  {
   "cell_type": "code",
   "execution_count": 135,
   "metadata": {},
   "outputs": [],
   "source": [
    "def evaluate(net, dataloader, context):\n",
    "    loss = gluon.loss.SigmoidBCELoss()\n",
    "    total_L = 0.0\n",
    "    total_sample_num = 0\n",
    "    total_correct_num = 0\n",
    "    start_log_interval_time = time.time()\n",
    "    print('Begin Testing...')\n",
    "    for i, (data, label, valid_length) in enumerate(dataloader):\n",
    "        data =  data.as_in_context(context)\n",
    "        valid_length = valid_length.as_in_context(context).astype(np.float32)\n",
    "        label = label.as_in_context(context)\n",
    "        output = net(data)\n",
    "        L = loss(output, label)\n",
    "        pred = (output > 0.5).reshape(-1)\n",
    "        total_L += L.sum().asscalar()\n",
    "        total_sample_num += label.shape[0]\n",
    "        total_correct_num += (pred == label).sum().asscalar()\n",
    "        if (i + 1) % log_interval == 0:\n",
    "            print('[Batch {}/{}] elapsed {:.2f} s'.format(\n",
    "                i + 1, len(dataloader),\n",
    "                time.time() - start_log_interval_time))\n",
    "            start_log_interval_time = time.time()\n",
    "    avg_L = total_L / float(total_sample_num)\n",
    "    acc = total_correct_num / float(total_sample_num)\n",
    "    return avg_L, acc"
   ]
  },
  {
   "cell_type": "code",
   "execution_count": null,
   "metadata": {},
   "outputs": [
    {
     "data": {
      "application/vnd.jupyter.widget-view+json": {
       "model_id": "fd22366e0f544e69950527e1800d4eb7",
       "version_major": 2,
       "version_minor": 0
      },
      "text/plain": [
       "HBox(children=(IntProgress(value=0, description='epoch', max=10), HTML(value='')))"
      ]
     },
     "metadata": {},
     "output_type": "display_data"
    },
    {
     "name": "stdout",
     "output_type": "stream",
     "text": [
      "Begin Testing...\n",
      "[Batch 100/391] elapsed 87.98 s\n"
     ]
    }
   ],
   "source": [
    "for epoch in tqdm_notebook(range(n_epoch), desc = 'epoch'):\n",
    "    ## Training\n",
    "    train_data.reset()\n",
    "    # Epoch training stats\n",
    "    start_epoch_time = time.time()\n",
    "    epoch_L = 0.0\n",
    "    epoch_sent_num = 0\n",
    "    epoch_wc = 0\n",
    "    # Log interval training stats\n",
    "    start_log_interval_time = time.time()\n",
    "    log_interval_wc = 0\n",
    "    log_interval_sent_num = 0\n",
    "    log_interval_L = 0.0\n",
    "    \n",
    "    for i, (data, label, length) in enumerate(train_dataloader):\n",
    "        _data = data.as_in_context(context)\n",
    "        _label = label.as_in_context(context)\n",
    "        _length = length.as_in_context(context)\n",
    "        L = 0\n",
    "        wc = length.sum().asscalar()\n",
    "        log_interval_wc += wc\n",
    "        epoch_wc += wc\n",
    "        log_interval_sent_num += _data.shape[1]\n",
    "        epoch_sent_num += _data.shape[1]\n",
    "        with autograd.record():\n",
    "            _out = rn(_data)\n",
    "            L = L + loss(_out, _label).mean().as_in_context(context)\n",
    "        L.backward()\n",
    "        trainer.step(_data.shape[0])\n",
    "        log_interval_L += L.asscalar()\n",
    "        epoch_L += L.asscalar()\n",
    "        if (i + 1) % log_interval == 0:\n",
    "            tqdm.write('[Epoch {} Batch {}/{}] elapsed {:.2f} s, \\\n",
    "                    avg loss {:.6f}, throughput {:.2f}K wps'.format(\n",
    "                    epoch, i + 1, len(train_dataloader),\n",
    "                    time.time() - start_log_interval_time,\n",
    "                    log_interval_L / log_interval_sent_num,\n",
    "                    log_interval_wc / 1000 / (time.time() - start_log_interval_time)))\n",
    "            # Clear log interval training stats\n",
    "            start_log_interval_time = time.time()\n",
    "            log_interval_wc = 0\n",
    "            log_interval_sent_num = 0\n",
    "            log_interval_L = 0\n",
    "        end_epoch_time = time.time()\n",
    "        test_avg_L, test_acc = evaluate(rn, test_dataloader, context)\n",
    "        tqdm.write('[Epoch {}] train avg loss {:.6f}, test acc {:.2f}, \\\n",
    "        test avg loss {:.6f}, throughput {:.2f}K wps'.format(\n",
    "            epoch, epoch_L / epoch_sent_num,\n",
    "            test_acc, test_avg_L, epoch_wc / 1000 /\n",
    "            (end_epoch_time - start_epoch_time)))"
   ]
  },
  {
   "cell_type": "code",
   "execution_count": 206,
   "metadata": {},
   "outputs": [],
   "source": [
    "va_txt = pd.DataFrame(np.array([origin_txt[idx] for idx in va_idx]), columns = ['txt'])\n",
    "pred_rn = rn(va_txt)\n",
    "pred_rn_pd = pd.DataFrame(pred_rn, columns  = ['pred_rn'])\n",
    "label_pd = pd.DataFrame(va_y, columns = ['label'])\n",
    "result = pd.concat([va_txt, pred_rn, label_pd], axis = 1)"
   ]
  },
  {
   "cell_type": "markdown",
   "metadata": {},
   "source": [
    "### Result\n",
    "\n",
    "* Only 33 comments are mis-classified"
   ]
  },
  {
   "cell_type": "code",
   "execution_count": 210,
   "metadata": {},
   "outputs": [
    {
     "data": {
      "text/plain": [
       "(33, 3)"
      ]
     },
     "execution_count": 210,
     "metadata": {},
     "output_type": "execute_result"
    }
   ],
   "source": [
    "result[result['pred_rn'] != result['label']].shape"
   ]
  }
 ],
 "metadata": {
  "kernelspec": {
   "display_name": "Python 3",
   "language": "python",
   "name": "python3"
  },
  "language_info": {
   "codemirror_mode": {
    "name": "ipython",
    "version": 3
   },
   "file_extension": ".py",
   "mimetype": "text/x-python",
   "name": "python",
   "nbconvert_exporter": "python",
   "pygments_lexer": "ipython3",
   "version": "3.6.5"
  }
 },
 "nbformat": 4,
 "nbformat_minor": 2
}
