{
 "cells": [
  {
   "cell_type": "markdown",
   "metadata": {},
   "source": [
    "## Data Loading"
   ]
  },
  {
   "cell_type": "code",
   "execution_count": 2,
   "metadata": {
    "ExecuteTime": {
     "end_time": "2018-07-02T15:50:19.244888Z",
     "start_time": "2018-07-02T15:50:18.041130Z"
    }
   },
   "outputs": [],
   "source": [
    "import os\n",
    "import pandas as pd\n",
    "import numpy as np\n",
    "import nltk\n",
    "import collections\n",
    "from sklearn.preprocessing import normalize\n",
    "from sklearn.metrics import accuracy_score, auc\n",
    "import gluonnlp as nlp"
   ]
  },
  {
   "cell_type": "code",
   "execution_count": 3,
   "metadata": {
    "ExecuteTime": {
     "end_time": "2018-07-02T15:50:20.935596Z",
     "start_time": "2018-07-02T15:50:20.570929Z"
    }
   },
   "outputs": [],
   "source": [
    "# train_dataset and test_dataset are both SimpleDataset objects,\n",
    "# which is a wrapper for lists and arrays.\n",
    "train_dataset, test_dataset = [nlp.data.IMDB(segment=segment)\n",
    "                               for segment in ('train', 'test')]"
   ]
  },
  {
   "cell_type": "code",
   "execution_count": 4,
   "metadata": {
    "ExecuteTime": {
     "end_time": "2018-07-02T15:51:23.555776Z",
     "start_time": "2018-07-02T15:50:23.259263Z"
    }
   },
   "outputs": [],
   "source": [
    "word_freq = collections.Counter()\n",
    "max_len = 0\n",
    "num_rec = 0\n",
    "\n",
    "for d in train_dataset:\n",
    "    sentence, label = d[0], d[1]\n",
    "    words = nltk.word_tokenize(sentence.lower())\n",
    "    if len(words) > max_len:\n",
    "        max_len = len(words)\n",
    "    for word in words:\n",
    "        word_freq[word] += 1\n",
    "    num_rec += 1"
   ]
  },
  {
   "cell_type": "code",
   "execution_count": 5,
   "metadata": {
    "ExecuteTime": {
     "end_time": "2018-07-02T15:51:23.589154Z",
     "start_time": "2018-07-02T15:51:23.557682Z"
    }
   },
   "outputs": [],
   "source": [
    "MAX_FEATURES = 2000\n",
    "MAX_SENTENCE_LENGTH = 40\n",
    "# most_common output -> list\n",
    "word2idx = {x[0]: i+2 for i, x in enumerate(word_freq.most_common(MAX_FEATURES - 2))}\n",
    "word2idx ['PAD'] = 0\n",
    "word2idx['UNK'] = 1"
   ]
  },
  {
   "cell_type": "code",
   "execution_count": 4,
   "metadata": {},
   "outputs": [],
   "source": [
    "idx2word= {i:v for v, i in word2idx.items()}\n",
    "vocab_size = len(word2idx)"
   ]
  },
  {
   "cell_type": "code",
   "execution_count": 5,
   "metadata": {},
   "outputs": [],
   "source": [
    "y = []\n",
    "x = []\n",
    "origin_txt = []\n",
    "\n",
    "\n",
    "for d in train_dataset:\n",
    "    _sentence, _label = d[0].decode('utf8').strip().split('\\t'), d[1]\n",
    "    origin_txt.append(_sentence)\n",
    "    y.append(int(_label))\n",
    "    words = nltk.word_tokenize(_sentence.lower())\n",
    "    for word in words:\n",
    "        if word in word2idx.keys():\n",
    "            _seq.append(word2idx[word])\n",
    "        else:\n",
    "            _seq.append(word2idx['UNK'])\n",
    "            \n",
    "    if len(_seq) < MAX_SENTENCE_LENGTH:\n",
    "        _seq.extend([0] * ((MAX_SENTENCE_LENGTH) - len(_seq)))\n",
    "    else:\n",
    "        _seq = _seq[:MAX_SENTENCE_LENGTH]\n",
    "        x.append(_seq)"
   ]
  },
  {
   "cell_type": "markdown",
   "metadata": {},
   "source": [
    "#### Custom function"
   ]
  },
  {
   "cell_type": "code",
   "execution_count": 6,
   "metadata": {},
   "outputs": [],
   "source": [
    "def one_hot(x, vocab_size):\n",
    "    res = np.zeros(shape = (vocab_size))\n",
    "    res[x] = 1\n",
    "    return res"
   ]
  },
  {
   "cell_type": "markdown",
   "metadata": {},
   "source": [
    "## Data preparation\n",
    "\n",
    "* Input data shape::$ (batch \\times word \\times vocab )$ \n",
    "* Split data into two pieces: training & validation\n",
    "* Create data iterator for training"
   ]
  },
  {
   "cell_type": "code",
   "execution_count": 7,
   "metadata": {},
   "outputs": [],
   "source": [
    "x_1 = np.array([np.array([one_hot(word, MAX_FEATURES) for word in example]) for example in x])"
   ]
  },
  {
   "cell_type": "code",
   "execution_count": 8,
   "metadata": {},
   "outputs": [],
   "source": [
    "tr_idx = np.random.choice(range(x_1.shape[0]), int(x_1.shape[0] * .8))\n",
    "va_idx = [x for x in range(x_1.shape[0]) if x not in tr_idx]"
   ]
  },
  {
   "cell_type": "code",
   "execution_count": 9,
   "metadata": {},
   "outputs": [],
   "source": [
    "tr_x = x_1[tr_idx, :]\n",
    "tr_y = [y[i] for i in tr_idx]\n",
    "va_x = x_1[va_idx, :]\n",
    "va_y = [y[i] for i in va_idx]"
   ]
  },
  {
   "cell_type": "code",
   "execution_count": 10,
   "metadata": {},
   "outputs": [],
   "source": [
    "import mxnet as mx\n",
    "batch_size = 16\n",
    "train_data = mx.io.NDArrayIter(data=[tr_x, tr_y], batch_size=batch_size, shuffle = False)\n",
    "valid_data = mx.io.NDArrayIter(data=[va_x, va_y], batch_size=batch_size, shuffle = False)"
   ]
  },
  {
   "cell_type": "markdown",
   "metadata": {},
   "source": [
    "## Define Self-Attention Network\n",
    "\n",
    "* We need hidden representation at first. In the original paper of SA, authors used bidirectional LSTM to end up with hidden representation, but it doesn't have to be LSTM. Any deep learning technique can be applied.\n",
    "\n",
    "* In this notebook, we applied relation network . As is said before, relation network take into account all pair-wise relationships between tokens in the sentence via the following equation\n",
    "  \n",
    "  $$ f(x_i, x_j ) =W \\phi(U_{left} e_i + U_{right} e_j)$$\n",
    "\n",
    "* As the result of the above computation, we get the following hidden representation of the sentence.\n",
    "\n",
    "$$ H = [H_1, \\ldots, H_n], \\textrm{ where  }H_i = [f(x_i, x_1), \\ldots , f(x_i, x_n]$$\n",
    "\n",
    "when there are $n$ tokens in the sentence.\n",
    "\n",
    "* Self- Attention matrix is defined as follows\n",
    "\n",
    "$$ A = softmax(W_2 tanh (W_1 H^T))$$\n",
    "\n",
    "* $W_1$ is of size $d \\times n$, where $d$ is an hyper parameter that should be determined by user.\n",
    "\n",
    "* $W_2$ is another linear transformation, which results in actual attention vector. The size of $A$ is $r\\times n$, where $r$ is the dimension of attention vector.\n",
    "\n",
    "* The final sentence represention is given by\n",
    "\n",
    "$$ M = A H$$\n",
    "\n",
    "* Here, we note that a single sentence is summarized as a set of vectors, not a single vector. This makes the representation more clear so that it may play a role in boosting its performance comparing to single vector summary such as the last step of hidden layer in RNN or average of CBoW."
   ]
  },
  {
   "cell_type": "code",
   "execution_count": 11,
   "metadata": {},
   "outputs": [],
   "source": [
    "from mxnet import gluon, autograd, nd\n",
    "from mxnet.gluon import nn\n",
    "from mxnet.ndarray.linalg import gemm2\n",
    "context = mx.gpu()"
   ]
  },
  {
   "cell_type": "code",
   "execution_count": 12,
   "metadata": {},
   "outputs": [],
   "source": [
    "class SA_Classifier(nn.HybridBlock):\n",
    "    def __init__(self, _SENTENCE_LENGTH, _VOCABULARY, _ATTENTION_DIM, _D_A, _BATCH_SIZE, **kwargs):\n",
    "        super(SA_Classifier, self).__init__(**kwargs)\n",
    "        self._SENTENCE_LENGTH = _SENTENCE_LENGTH\n",
    "        self._ATTENTION_DIM = _ATTENTION_DIM\n",
    "        self._VOCABULARY = _VOCABULARY\n",
    "        self._D_A = _D_A\n",
    "        self._BATCH_SIZE = _BATCH_SIZE\n",
    "        \n",
    "        with self.name_scope():\n",
    "            self.g_fc1 = nn.Dense(256,activation='relu')\n",
    "            self.g_fc2 = nn.Dense(128,activation='relu')\n",
    "            self.g_fc3 = nn.Dense(64,activation='relu')\n",
    "            self.g_fc4 = nn.Dense(1,activation='relu')\n",
    "\n",
    "            self.W1 = nd.random.normal(loc = 0, scale = 1, shape = (self._D_A, self._SENTENCE_LENGTH), ctx = context)\n",
    "            self.W2 = nd.random.normal(loc = 0, scale = 1, shape = (self._ATTENTION_DIM, self._D_A), ctx = context)\n",
    "            \n",
    "            self.fc1 = nn.Dense(128, activation = 'relu') # 256 * 128\n",
    "            self.fc2 = nn.Dense(2) # 128 * 2\n",
    "            # 1253632 param : 약 20MB\n",
    "            \n",
    "    def hybrid_forward(self, F, x):\n",
    "        # (x_i, x_j)의 pair를 만들기\n",
    "        x_i = x.expand_dims(1) # B * 1* 40 * 2000* : 0.02GB\n",
    "        x_i = F.repeat(x_i,repeats= self._SENTENCE_LENGTH, axis=1) # B * 40 * 40 * 2000: 1.52GB\n",
    "        x_j = x.expand_dims(2) # B * 40 * 1 * 2000\n",
    "        x_j = F.repeat(x_j,repeats= self._SENTENCE_LENGTH, axis=2) # B * 40 * 40 * 2000: 1.52GB\n",
    "        x_full = F.concat(x_i,x_j,dim=3) # B * 40 * 40 * 4000: 3.04GB\n",
    "        # batch*sentence_length*sentence_length개의 batch를 가진 2*VOCABULARY input을 network에 feed\n",
    "        _x = x_full.reshape((-1, 2 * self._VOCABULARY))\n",
    "        _x = self.g_fc1(_x) # (B * 40 * 40) * 256: .1GB 추가메모리는 안먹나?\n",
    "        _x = self.g_fc2(_x) # (B * 40 * 40) * 128: .1GB (reuse)\n",
    "        _x = self.g_fc3(_x) # (B * 40 * 40) * 64: .1GB (reuse)\n",
    "        _x = self.g_fc4(_x) # (B * 40 * 1) * 256: .1GB (reuse)\n",
    "\n",
    "        # Reshape to get Hidden representataion\n",
    "        H = _x.reshape((-1, self._SENTENCE_LENGTH, self._SENTENCE_LENGTH))\n",
    "        W1_rep = self.W1.expand_dims(0)\n",
    "        W1_rep = F.repeat(W1_rep, repeats = self._BATCH_SIZE, axis = 0)\n",
    "        _tmp1 = gemm2(W1_rep, H)\n",
    "        _tmp1 = nd.tanh(_tmp1)\n",
    "        W2_rep = self.W2.expand_dims(0)\n",
    "        W2_rep = F.repeat(W2_rep, repeats = self._BATCH_SIZE, axis = 0)    \n",
    "        A = nd.softmax(gemm2(W2_rep, _tmp1), axis = 2)\n",
    "        M = gemm2(A, H)\n",
    "        \n",
    "        # 여기서부터는 classifier\n",
    "        _M = M.reshape((-1, self._ATTENTION_DIM * self._SENTENCE_LENGTH))\n",
    "        \n",
    "        clf = self.fc1(_M)\n",
    "        clf = self.fc2(clf)\n",
    "        return clf, A"
   ]
  },
  {
   "cell_type": "code",
   "execution_count": 15,
   "metadata": {},
   "outputs": [
    {
     "data": {
      "text/plain": [
       "(4, 40, 40)"
      ]
     },
     "execution_count": 15,
     "metadata": {},
     "output_type": "execute_result"
    }
   ],
   "source": [
    "z = np.random.uniform(size = (4, 40, 2000))\n",
    "z = nd.array(z, ctx = context)\n",
    "sa = SA_Classifier(40, 2000, 40, 40, 4)\n",
    "sa.collect_params().initialize(mx.init.Xavier(), ctx =context)\n",
    "sa(z)[1].shape"
   ]
  },
  {
   "cell_type": "code",
   "execution_count": 16,
   "metadata": {},
   "outputs": [],
   "source": [
    "sa = SA_Classifier(MAX_SENTENCE_LENGTH, MAX_FEATURES, MAX_SENTENCE_LENGTH, MAX_SENTENCE_LENGTH, batch_size)\n",
    "sa.collect_params().initialize(mx.init.Xavier(), ctx = context)\n",
    "loss = gluon.loss.SoftmaxCELoss()\n",
    "trainer = gluon.Trainer(sa.collect_params(), 'adam', {'learning_rate': 1e-3})"
   ]
  },
  {
   "cell_type": "code",
   "execution_count": 17,
   "metadata": {},
   "outputs": [],
   "source": [
    "n_epoch = 10\n",
    "from tqdm import tqdm, tqdm_notebook"
   ]
  },
  {
   "cell_type": "code",
   "execution_count": 18,
   "metadata": {
    "scrolled": true
   },
   "outputs": [
    {
     "data": {
      "application/vnd.jupyter.widget-view+json": {
       "model_id": "37968edb8041425e842cd97ad7ecafa1",
       "version_major": 2,
       "version_minor": 0
      },
      "text/plain": [
       "HBox(children=(IntProgress(value=0, description='epoch', max=10), HTML(value='')))"
      ]
     },
     "metadata": {},
     "output_type": "display_data"
    },
    {
     "name": "stdout",
     "output_type": "stream",
     "text": [
      "Epoch 0: tr_loss = 0.20457202664963428, tr_acc= 0.9184859154929578, va_loss = 0.13729756747171662, va_acc= 0.9470443349753694\n",
      "Epoch 1: tr_loss = 0.05097090207332946, tr_acc= 0.9836267605633803, va_loss = 0.13267330863051743, va_acc= 0.9618226600985221\n",
      "Epoch 2: tr_loss = 0.026243403792482817, tr_acc= 0.9926056338028169, va_loss = 0.1539830091348803, va_acc= 0.957820197044335\n",
      "Epoch 3: tr_loss = 0.015879086651590126, tr_acc= 0.9952464788732395, va_loss = 0.1775123529325058, va_acc= 0.9655172413793104\n",
      "Epoch 4: tr_loss = 0.013689804695411888, tr_acc= 0.9973591549295775, va_loss = 0.13496094134290118, va_acc= 0.9682881773399015\n",
      "Epoch 5: tr_loss = 0.00640793367704133, tr_acc= 0.9985915492957746, va_loss = 0.16537107877836485, va_acc= 0.9664408866995073\n",
      "Epoch 6: tr_loss = 0.006708829911573301, tr_acc= 0.9984154929577465, va_loss = 0.32971756679130876, va_acc= 0.9652093596059114\n",
      "Epoch 7: tr_loss = 0.015708154947701544, tr_acc= 0.9948943661971831, va_loss = 0.1504514035003536, va_acc= 0.9676724137931034\n",
      "Epoch 8: tr_loss = 0.005975391798333357, tr_acc= 0.9985915492957746, va_loss = 0.1886441679092217, va_acc= 0.9692118226600985\n",
      "Epoch 9: tr_loss = 0.0017287729329599176, tr_acc= 0.9994718309859155, va_loss = 0.21178208828991105, va_acc= 0.9658251231527094\n",
      "\n"
     ]
    }
   ],
   "source": [
    "# 약 2GB 정도 필요\n",
    "for epoch in tqdm_notebook(range(n_epoch), desc = 'epoch'):\n",
    "    ## Training\n",
    "    train_data.reset()\n",
    "    n_obs = 0\n",
    "    _total_los = 0\n",
    "    pred = []\n",
    "    label = []\n",
    "    for i, batch in enumerate(train_data):\n",
    "        _dat = batch.data[0].as_in_context(context)\n",
    "        _label = batch.data[1].as_in_context(context)\n",
    "        with autograd.record():\n",
    "            _out, _A = sa(_dat)\n",
    "            _los = nd.sum(loss(_out, _label)) # 배치의 크기만큼의 loss가 나옴\n",
    "            _los.backward()\n",
    "        trainer.step(_dat.shape[0])\n",
    "        n_obs += _dat.shape[0]\n",
    "        _total_los += nd.sum(_los).asscalar()\n",
    "        # Epoch loss를 구하기 위해서 결과물을 계속 쌓음\n",
    "        pred.extend(nd.softmax(_out)[:,1].asnumpy()) # 두번째 컬럼의 확률이 예측 확률\n",
    "        label.extend(_label.asnumpy())\n",
    "    tr_acc = accuracy_score(label, [round(p) for p in pred])\n",
    "    tr_loss = _total_los/n_obs\n",
    "    \n",
    "    ### Evaluate training\n",
    "    valid_data.reset()\n",
    "    n_obs = 0\n",
    "    _total_los = 0\n",
    "    pred = []\n",
    "    label = []\n",
    "    attention = []\n",
    "    for i, batch in enumerate(valid_data):\n",
    "        _dat = batch.data[0].as_in_context(context)\n",
    "        _label = batch.data[1].as_in_context(context)\n",
    "        _out, _A = sa(_dat)\n",
    "        _pred_score = nd.softmax(_out)\n",
    "        n_obs += _dat.shape[0]\n",
    "        _total_los += nd.sum(loss(_out, _label)).asscalar()\n",
    "        pred.extend(nd.softmax(_out)[:,1].asnumpy())\n",
    "        label.extend(_label.asnumpy())\n",
    "        attention.extend(_A)\n",
    "    va_acc = accuracy_score(label, [round(p) for p in pred])\n",
    "    va_loss = _total_los/n_obs\n",
    "    tqdm.write('Epoch {}: tr_loss = {}, tr_acc= {}, va_loss = {}, va_acc= {}'.format(epoch, tr_loss, tr_acc, va_loss, va_acc))"
   ]
  },
  {
   "cell_type": "code",
   "execution_count": 21,
   "metadata": {},
   "outputs": [
    {
     "data": {
      "text/html": [
       "<div>\n",
       "<style scoped>\n",
       "    .dataframe tbody tr th:only-of-type {\n",
       "        vertical-align: middle;\n",
       "    }\n",
       "\n",
       "    .dataframe tbody tr th {\n",
       "        vertical-align: top;\n",
       "    }\n",
       "\n",
       "    .dataframe thead th {\n",
       "        text-align: right;\n",
       "    }\n",
       "</style>\n",
       "<table border=\"1\" class=\"dataframe\">\n",
       "  <thead>\n",
       "    <tr style=\"text-align: right;\">\n",
       "      <th></th>\n",
       "      <th>txt</th>\n",
       "      <th>pred_sa</th>\n",
       "      <th>label</th>\n",
       "    </tr>\n",
       "  </thead>\n",
       "  <tbody>\n",
       "    <tr>\n",
       "      <th>0</th>\n",
       "      <td>I want to be here because I love Harry Potter,...</td>\n",
       "      <td>1.0</td>\n",
       "      <td>1</td>\n",
       "    </tr>\n",
       "    <tr>\n",
       "      <th>1</th>\n",
       "      <td>watched mission impossible 3 wif stupid haha...</td>\n",
       "      <td>0.0</td>\n",
       "      <td>0</td>\n",
       "    </tr>\n",
       "    <tr>\n",
       "      <th>2</th>\n",
       "      <td>Anyway, thats why I love \" Brokeback Mountain.</td>\n",
       "      <td>1.0</td>\n",
       "      <td>1</td>\n",
       "    </tr>\n",
       "    <tr>\n",
       "      <th>3</th>\n",
       "      <td>dudeee i LOVED brokeback mountain!!!!</td>\n",
       "      <td>1.0</td>\n",
       "      <td>1</td>\n",
       "    </tr>\n",
       "    <tr>\n",
       "      <th>4</th>\n",
       "      <td>I either LOVE Brokeback Mountain or think it's...</td>\n",
       "      <td>1.0</td>\n",
       "      <td>1</td>\n",
       "    </tr>\n",
       "    <tr>\n",
       "      <th>5</th>\n",
       "      <td>It was awesome, I finished up my tests, and af...</td>\n",
       "      <td>0.0</td>\n",
       "      <td>1</td>\n",
       "    </tr>\n",
       "    <tr>\n",
       "      <th>6</th>\n",
       "      <td>Da Vinci Code sucks be...</td>\n",
       "      <td>0.0</td>\n",
       "      <td>0</td>\n",
       "    </tr>\n",
       "    <tr>\n",
       "      <th>7</th>\n",
       "      <td>Finally feel up to making the long ass drive o...</td>\n",
       "      <td>1.0</td>\n",
       "      <td>1</td>\n",
       "    </tr>\n",
       "    <tr>\n",
       "      <th>8</th>\n",
       "      <td>I hate Harry Potter.</td>\n",
       "      <td>0.0</td>\n",
       "      <td>0</td>\n",
       "    </tr>\n",
       "    <tr>\n",
       "      <th>9</th>\n",
       "      <td>Then snuck into Brokeback Mountain, which is t...</td>\n",
       "      <td>0.0</td>\n",
       "      <td>0</td>\n",
       "    </tr>\n",
       "  </tbody>\n",
       "</table>\n",
       "</div>"
      ],
      "text/plain": [
       "                                                 txt  pred_sa  label\n",
       "0  I want to be here because I love Harry Potter,...      1.0      1\n",
       "1    watched mission impossible 3 wif stupid haha...      0.0      0\n",
       "2     Anyway, thats why I love \" Brokeback Mountain.      1.0      1\n",
       "3              dudeee i LOVED brokeback mountain!!!!      1.0      1\n",
       "4  I either LOVE Brokeback Mountain or think it's...      1.0      1\n",
       "5  It was awesome, I finished up my tests, and af...      0.0      1\n",
       "6                          Da Vinci Code sucks be...      0.0      0\n",
       "7  Finally feel up to making the long ass drive o...      1.0      1\n",
       "8                               I hate Harry Potter.      0.0      0\n",
       "9  Then snuck into Brokeback Mountain, which is t...      0.0      0"
      ]
     },
     "execution_count": 21,
     "metadata": {},
     "output_type": "execute_result"
    }
   ],
   "source": [
    "# We need to specify batch_size explicitly becuase we need that in reshaping\n",
    "idx = np.random.choice(len(va_idx), batch_size)\n",
    "va_txt = [origin_txt[_idx] for _idx in va_idx]\n",
    "va_txt = [va_txt[j] for j in idx]\n",
    "va_txt = pd.DataFrame(va_txt, columns = ['txt'])\n",
    "y_pred_sa, A = sa(nd.array(va_x[idx], ctx = context))\n",
    "pred_sa = [nd.round(val).asnumpy()[0] for val in nd.softmax(y_pred_sa)[:, 1]] \n",
    "pred_sa_pd = pd.DataFrame(pred_sa, columns  = ['pred_sa'])\n",
    "label_pd = pd.DataFrame([va_y[j] for j in idx], columns = ['label'])\n",
    "result = pd.concat([va_txt, pred_sa_pd, label_pd], axis = 1)\n",
    "result.head(10)"
   ]
  },
  {
   "cell_type": "markdown",
   "metadata": {},
   "source": [
    "### Result\n",
    "\n",
    "* Only 3 comments are mis-classified"
   ]
  },
  {
   "cell_type": "code",
   "execution_count": 37,
   "metadata": {},
   "outputs": [
    {
     "data": {
      "text/plain": [
       "(2, 3)"
      ]
     },
     "execution_count": 37,
     "metadata": {},
     "output_type": "execute_result"
    }
   ],
   "source": [
    "result[result['pred_sa'] != result['label']].shape"
   ]
  },
  {
   "cell_type": "markdown",
   "metadata": {},
   "source": [
    "## Attention visualization"
   ]
  },
  {
   "cell_type": "code",
   "execution_count": 23,
   "metadata": {},
   "outputs": [],
   "source": [
    "import seaborn as sns\n",
    "sns.set()"
   ]
  },
  {
   "cell_type": "code",
   "execution_count": 24,
   "metadata": {},
   "outputs": [
    {
     "data": {
      "text/plain": [
       "1"
      ]
     },
     "execution_count": 24,
     "metadata": {},
     "output_type": "execute_result"
    }
   ],
   "source": [
    "len(word)"
   ]
  },
  {
   "cell_type": "code",
   "execution_count": 119,
   "metadata": {},
   "outputs": [],
   "source": [
    "def get_attention(_att, _sentence, sentence_id):\n",
    "    x = _sentence[sentence_id]\n",
    "    _att = _att[sentence_id].asnumpy()\n",
    "    word = []\n",
    "    for token in x:\n",
    "        _word_idx = [i for i,j in enumerate(token) if j == 1]\n",
    "        _word = idx2word[_word_idx[0]]\n",
    "        word.append(_word)\n",
    "    print(type(_att))\n",
    "    att = pd.DataFrame(_att, index = word, columns = word)\n",
    "    return att\n"
   ]
  },
  {
   "cell_type": "code",
   "execution_count": 120,
   "metadata": {},
   "outputs": [
    {
     "name": "stdout",
     "output_type": "stream",
     "text": [
      "<class 'numpy.ndarray'>\n"
     ]
    },
    {
     "data": {
      "text/plain": [
       "pandas.core.frame.DataFrame"
      ]
     },
     "execution_count": 120,
     "metadata": {},
     "output_type": "execute_result"
    }
   ],
   "source": [
    "att = get_attention(A, va_x[idx], sample_id)\n",
    "type(att)"
   ]
  },
  {
   "cell_type": "code",
   "execution_count": 121,
   "metadata": {},
   "outputs": [
    {
     "name": "stdout",
     "output_type": "stream",
     "text": [
      "<class 'numpy.ndarray'>\n",
      "label: 1, predicted: 1.0\n"
     ]
    },
    {
     "data": {
      "image/png": "[encoded data removed]",
      "text/plain": [
       "<Figure size 432x288 with 2 Axes>"
      ]
     },
     "metadata": {},
     "output_type": "display_data"
    }
   ],
   "source": [
    "## Plot using Seaborn\n",
    "sample_id = 2\n",
    "ax = sns.heatmap(get_attention(A, va_x[idx], sample_id))\n",
    "print('label: {}, predicted: {}'.format(result.label[sample_id], result.pred_sa[sample_id]))"
   ]
  }
 ],
 "metadata": {
  "kernelspec": {
   "display_name": "Python 3",
   "language": "python",
   "name": "python3"
  },
  "language_info": {
   "codemirror_mode": {
    "name": "ipython",
    "version": 3
   },
   "file_extension": ".py",
   "mimetype": "text/x-python",
   "name": "python",
   "nbconvert_exporter": "python",
   "pygments_lexer": "ipython3",
   "version": "3.6.5"
  }
 },
 "nbformat": 4,
 "nbformat_minor": 2
}
